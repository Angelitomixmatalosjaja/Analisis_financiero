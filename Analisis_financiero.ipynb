{
 "cells": [
  {
   "cell_type": "code",
   "execution_count": 43,
   "metadata": {},
   "outputs": [],
   "source": [
    "import pandas as pd\n",
    "import numpy as np\n",
    "import matplotlib.pyplot as plt\n",
    "import seaborn as sns\n",
    "from functools import reduce"
   ]
  },
  {
   "cell_type": "code",
   "execution_count": 38,
   "metadata": {},
   "outputs": [],
   "source": [
    "df = pd.read_csv('dataset_empresas.csv', sep=',')"
   ]
  },
  {
   "cell_type": "code",
   "execution_count": 39,
   "metadata": {},
   "outputs": [
    {
     "data": {
      "application/vnd.microsoft.datawrangler.viewer.v0+json": {
       "columns": [
        {
         "name": "index",
         "rawType": "int64",
         "type": "integer"
        },
        {
         "name": "Empresa",
         "rawType": "object",
         "type": "string"
        },
        {
         "name": "Año",
         "rawType": "int64",
         "type": "integer"
        },
        {
         "name": "Trimestre",
         "rawType": "object",
         "type": "string"
        },
        {
         "name": "Ingresos",
         "rawType": "int64",
         "type": "integer"
        },
        {
         "name": "Costos",
         "rawType": "int64",
         "type": "integer"
        },
        {
         "name": "EBITDA",
         "rawType": "int64",
         "type": "integer"
        },
        {
         "name": "Deuda",
         "rawType": "int64",
         "type": "integer"
        },
        {
         "name": "Activos",
         "rawType": "int64",
         "type": "integer"
        },
        {
         "name": "Capital",
         "rawType": "int64",
         "type": "integer"
        },
        {
         "name": "Rating",
         "rawType": "object",
         "type": "string"
        },
        {
         "name": "Proyeccion_Crecimiento",
         "rawType": "float64",
         "type": "float"
        }
       ],
       "ref": "02314c8f-79f9-4fd1-92f6-f1627d3600ec",
       "rows": [
        [
         "0",
         "Alpha Corp",
         "2021",
         "Q1",
         "171958",
         "84578",
         "84520",
         "415838",
         "459178",
         "43340",
         "BB",
         "0.069"
        ],
        [
         "1",
         "Alpha Corp",
         "2021",
         "Q2",
         "187337",
         "157320",
         "23591",
         "137498",
         "1112756",
         "975258",
         "BBB",
         "-0.021"
        ],
        [
         "2",
         "Alpha Corp",
         "2021",
         "Q3",
         "91090",
         "38121",
         "50200",
         "371879",
         "527069",
         "155190",
         "B",
         "-0.05"
        ],
        [
         "3",
         "Alpha Corp",
         "2021",
         "Q4",
         "153355",
         "115049",
         "32921",
         "471909",
         "1189436",
         "717527",
         "BBB",
         "-0.045"
        ],
        [
         "4",
         "Alpha Corp",
         "2022",
         "Q1",
         "206730",
         "167170",
         "29711",
         "199503",
         "854811",
         "655308",
         "BBB",
         "0.023"
        ],
        [
         "5",
         "Alpha Corp",
         "2022",
         "Q2",
         "115725",
         "65408",
         "45312",
         "369030",
         "755839",
         "386809",
         "AAA",
         "-0.041"
        ],
        [
         "6",
         "Alpha Corp",
         "2022",
         "Q3",
         "53890",
         "30394",
         "10416",
         "523254",
         "549457",
         "26203",
         "BBB",
         "0.138"
        ],
        [
         "7",
         "Alpha Corp",
         "2022",
         "Q4",
         "289629",
         "183999",
         "96589",
         "301995",
         "1106606",
         "804611",
         "BBB",
         "-0.026"
        ],
        [
         "8",
         "Alpha Corp",
         "2023",
         "Q1",
         "306508",
         "139762",
         "152540",
         "156530",
         "804365",
         "647835",
         "AAA",
         "0.002"
        ],
        [
         "9",
         "Alpha Corp",
         "2023",
         "Q2",
         "250551",
         "189695",
         "55783",
         "509773",
         "408261",
         "-101512",
         "B",
         "0.059"
        ],
        [
         "10",
         "Alpha Corp",
         "2023",
         "Q3",
         "221829",
         "98423",
         "108416",
         "252283",
         "396769",
         "144486",
         "AA",
         "0.129"
        ],
        [
         "11",
         "Alpha Corp",
         "2023",
         "Q4",
         "475822",
         "201862",
         "259217",
         "403531",
         "1207293",
         "803762",
         "BB",
         "0.028"
        ],
        [
         "12",
         "Alpha Corp",
         "2024",
         "Q1",
         "132798",
         "62387",
         "63524",
         "324329",
         "942139",
         "617810",
         "BBB",
         "0.059"
        ],
        [
         "13",
         "Alpha Corp",
         "2024",
         "Q2",
         "286584",
         "152677",
         "129845",
         "426896",
         "248984",
         "-177912",
         "CCC",
         "0.035"
        ],
        [
         "14",
         "Alpha Corp",
         "2024",
         "Q3",
         "183767",
         "121696",
         "54813",
         "530754",
         "213986",
         "-316768",
         "A",
         "0.104"
        ],
        [
         "15",
         "Alpha Corp",
         "2024",
         "Q4",
         "350804",
         "274954",
         "63380",
         "334806",
         "1279111",
         "944305",
         "BBB",
         "0.016"
        ],
        [
         "16",
         "Beta Foods",
         "2021",
         "Q1",
         "401279",
         "287989",
         "108836",
         "539570",
         "224538",
         "-315032",
         "A",
         "0.044"
        ],
        [
         "17",
         "Beta Foods",
         "2021",
         "Q2",
         "425396",
         "309340",
         "103174",
         "234064",
         "414020",
         "179956",
         "AA",
         "-0.003"
        ],
        [
         "18",
         "Beta Foods",
         "2021",
         "Q3",
         "423133",
         "260235",
         "153960",
         "169176",
         "1117710",
         "948534",
         "CCC",
         "-0.028"
        ],
        [
         "19",
         "Beta Foods",
         "2021",
         "Q4",
         "73419",
         "51770",
         "17892",
         "155878",
         "1173548",
         "1017670",
         "CCC",
         "0.101"
        ],
        [
         "20",
         "Beta Foods",
         "2022",
         "Q1",
         "214899",
         "141779",
         "61206",
         "429989",
         "615515",
         "185526",
         "AA",
         "0.075"
        ],
        [
         "21",
         "Beta Foods",
         "2022",
         "Q2",
         "485773",
         "374461",
         "98060",
         "576981",
         "967595",
         "390614",
         "BBB",
         "0.033"
        ],
        [
         "22",
         "Beta Foods",
         "2022",
         "Q3",
         "486157",
         "347368",
         "135126",
         "338249",
         "275766",
         "-62483",
         "BBB",
         "0.021"
        ],
        [
         "23",
         "Beta Foods",
         "2022",
         "Q4",
         "437261",
         "198680",
         "235275",
         "504589",
         "337848",
         "-166741",
         "BBB",
         "0.021"
        ],
        [
         "24",
         "Beta Foods",
         "2023",
         "Q1",
         "452690",
         "370201",
         "74914",
         "278576",
         "1215602",
         "937026",
         "AA",
         "0.018"
        ],
        [
         "25",
         "Beta Foods",
         "2023",
         "Q2",
         "215838",
         "159865",
         "42336",
         "111087",
         "1213343",
         "1102256",
         "AAA",
         "0.031"
        ],
        [
         "26",
         "Beta Foods",
         "2023",
         "Q3",
         "363149",
         "322907",
         "31657",
         "243075",
         "1462859",
         "1219784",
         "B",
         "0.089"
        ],
        [
         "27",
         "Beta Foods",
         "2023",
         "Q4",
         "466880",
         "253924",
         "207260",
         "143264",
         "970746",
         "827482",
         "AAA",
         "0.145"
        ],
        [
         "28",
         "Beta Foods",
         "2024",
         "Q1",
         "162859",
         "65997",
         "86698",
         "481839",
         "469536",
         "-12303",
         "AAA",
         "-0.002"
        ],
        [
         "29",
         "Beta Foods",
         "2024",
         "Q2",
         "268164",
         "158124",
         "97071",
         "285167",
         "881669",
         "596502",
         "CCC",
         "0.084"
        ],
        [
         "30",
         "Beta Foods",
         "2024",
         "Q3",
         "148506",
         "72090",
         "65458",
         "511079",
         "568452",
         "57373",
         "BBB",
         "0.147"
        ],
        [
         "31",
         "Beta Foods",
         "2024",
         "Q4",
         "139045",
         "90316",
         "34955",
         "72671",
         "251663",
         "178992",
         "BB",
         "0.122"
        ],
        [
         "32",
         "Gamma Energy",
         "2021",
         "Q1",
         "183883",
         "129803",
         "45534",
         "192483",
         "858271",
         "665788",
         "CCC",
         "-0.015"
        ],
        [
         "33",
         "Gamma Energy",
         "2021",
         "Q2",
         "134896",
         "65069",
         "63091",
         "58155",
         "1025816",
         "967661",
         "AA",
         "0.135"
        ],
        [
         "34",
         "Gamma Energy",
         "2021",
         "Q3",
         "135981",
         "115105",
         "18614",
         "358987",
         "845263",
         "486276",
         "AA",
         "0.146"
        ],
        [
         "35",
         "Gamma Energy",
         "2021",
         "Q4",
         "197443",
         "156348",
         "37046",
         "415871",
         "575037",
         "159166",
         "BBB",
         "0.062"
        ],
        [
         "36",
         "Gamma Energy",
         "2022",
         "Q1",
         "341999",
         "144199",
         "192630",
         "589439",
         "790978",
         "201539",
         "BBB",
         "0.127"
        ],
        [
         "37",
         "Gamma Energy",
         "2022",
         "Q2",
         "438215",
         "234326",
         "189706",
         "472515",
         "868234",
         "395719",
         "AAA",
         "-0.018"
        ],
        [
         "38",
         "Gamma Energy",
         "2022",
         "Q3",
         "234423",
         "155036",
         "68942",
         "183272",
         "967836",
         "784564",
         "AA",
         "-0.018"
        ],
        [
         "39",
         "Gamma Energy",
         "2022",
         "Q4",
         "169121",
         "145153",
         "19099",
         "504351",
         "836584",
         "332233",
         "BBB",
         "0.092"
        ],
        [
         "40",
         "Gamma Energy",
         "2023",
         "Q1",
         "335472",
         "225600",
         "102961",
         "108871",
         "1139903",
         "1031032",
         "CCC",
         "0.094"
        ],
        [
         "41",
         "Gamma Energy",
         "2023",
         "Q2",
         "382415",
         "197030",
         "172458",
         "157450",
         "371890",
         "214440",
         "B",
         "0.003"
        ],
        [
         "42",
         "Gamma Energy",
         "2023",
         "Q3",
         "450109",
         "296424",
         "148249",
         "449111",
         "1399386",
         "950275",
         "A",
         "0.109"
        ],
        [
         "43",
         "Gamma Energy",
         "2023",
         "Q4",
         "366189",
         "244363",
         "112804",
         "419599",
         "1079611",
         "660012",
         "BB",
         "0.05"
        ],
        [
         "44",
         "Gamma Energy",
         "2024",
         "Q1",
         "152946",
         "134922",
         "8685",
         "174123",
         "1136093",
         "961970",
         "BB",
         "0.006"
        ],
        [
         "45",
         "Gamma Energy",
         "2024",
         "Q2",
         "355669",
         "305974",
         "46635",
         "461927",
         "989852",
         "527925",
         "AAA",
         "0.061"
        ],
        [
         "46",
         "Gamma Energy",
         "2024",
         "Q3",
         "165294",
         "132352",
         "25854",
         "115726",
         "341564",
         "225838",
         "BB",
         "-0.012"
        ],
        [
         "47",
         "Gamma Energy",
         "2024",
         "Q4",
         "231408",
         "177877",
         "43212",
         "563758",
         "1183609",
         "619851",
         "A",
         "0.064"
        ],
        [
         "48",
         "Delta Tech",
         "2021",
         "Q1",
         "86631",
         "42107",
         "38510",
         "323237",
         "1266646",
         "943409",
         "AA",
         "0.001"
        ],
        [
         "49",
         "Delta Tech",
         "2021",
         "Q2",
         "60729",
         "25700",
         "20780",
         "247392",
         "358823",
         "111431",
         "AAA",
         "-0.023"
        ]
       ],
       "shape": {
        "columns": 11,
        "rows": 160
       }
      },
      "text/html": [
       "<div>\n",
       "<style scoped>\n",
       "    .dataframe tbody tr th:only-of-type {\n",
       "        vertical-align: middle;\n",
       "    }\n",
       "\n",
       "    .dataframe tbody tr th {\n",
       "        vertical-align: top;\n",
       "    }\n",
       "\n",
       "    .dataframe thead th {\n",
       "        text-align: right;\n",
       "    }\n",
       "</style>\n",
       "<table border=\"1\" class=\"dataframe\">\n",
       "  <thead>\n",
       "    <tr style=\"text-align: right;\">\n",
       "      <th></th>\n",
       "      <th>Empresa</th>\n",
       "      <th>Año</th>\n",
       "      <th>Trimestre</th>\n",
       "      <th>Ingresos</th>\n",
       "      <th>Costos</th>\n",
       "      <th>EBITDA</th>\n",
       "      <th>Deuda</th>\n",
       "      <th>Activos</th>\n",
       "      <th>Capital</th>\n",
       "      <th>Rating</th>\n",
       "      <th>Proyeccion_Crecimiento</th>\n",
       "    </tr>\n",
       "  </thead>\n",
       "  <tbody>\n",
       "    <tr>\n",
       "      <th>0</th>\n",
       "      <td>Alpha Corp</td>\n",
       "      <td>2021</td>\n",
       "      <td>Q1</td>\n",
       "      <td>171958</td>\n",
       "      <td>84578</td>\n",
       "      <td>84520</td>\n",
       "      <td>415838</td>\n",
       "      <td>459178</td>\n",
       "      <td>43340</td>\n",
       "      <td>BB</td>\n",
       "      <td>0.069</td>\n",
       "    </tr>\n",
       "    <tr>\n",
       "      <th>1</th>\n",
       "      <td>Alpha Corp</td>\n",
       "      <td>2021</td>\n",
       "      <td>Q2</td>\n",
       "      <td>187337</td>\n",
       "      <td>157320</td>\n",
       "      <td>23591</td>\n",
       "      <td>137498</td>\n",
       "      <td>1112756</td>\n",
       "      <td>975258</td>\n",
       "      <td>BBB</td>\n",
       "      <td>-0.021</td>\n",
       "    </tr>\n",
       "    <tr>\n",
       "      <th>2</th>\n",
       "      <td>Alpha Corp</td>\n",
       "      <td>2021</td>\n",
       "      <td>Q3</td>\n",
       "      <td>91090</td>\n",
       "      <td>38121</td>\n",
       "      <td>50200</td>\n",
       "      <td>371879</td>\n",
       "      <td>527069</td>\n",
       "      <td>155190</td>\n",
       "      <td>B</td>\n",
       "      <td>-0.050</td>\n",
       "    </tr>\n",
       "    <tr>\n",
       "      <th>3</th>\n",
       "      <td>Alpha Corp</td>\n",
       "      <td>2021</td>\n",
       "      <td>Q4</td>\n",
       "      <td>153355</td>\n",
       "      <td>115049</td>\n",
       "      <td>32921</td>\n",
       "      <td>471909</td>\n",
       "      <td>1189436</td>\n",
       "      <td>717527</td>\n",
       "      <td>BBB</td>\n",
       "      <td>-0.045</td>\n",
       "    </tr>\n",
       "    <tr>\n",
       "      <th>4</th>\n",
       "      <td>Alpha Corp</td>\n",
       "      <td>2022</td>\n",
       "      <td>Q1</td>\n",
       "      <td>206730</td>\n",
       "      <td>167170</td>\n",
       "      <td>29711</td>\n",
       "      <td>199503</td>\n",
       "      <td>854811</td>\n",
       "      <td>655308</td>\n",
       "      <td>BBB</td>\n",
       "      <td>0.023</td>\n",
       "    </tr>\n",
       "    <tr>\n",
       "      <th>...</th>\n",
       "      <td>...</td>\n",
       "      <td>...</td>\n",
       "      <td>...</td>\n",
       "      <td>...</td>\n",
       "      <td>...</td>\n",
       "      <td>...</td>\n",
       "      <td>...</td>\n",
       "      <td>...</td>\n",
       "      <td>...</td>\n",
       "      <td>...</td>\n",
       "      <td>...</td>\n",
       "    </tr>\n",
       "    <tr>\n",
       "      <th>155</th>\n",
       "      <td>Lambda Agro</td>\n",
       "      <td>2023</td>\n",
       "      <td>Q4</td>\n",
       "      <td>339450</td>\n",
       "      <td>172999</td>\n",
       "      <td>153324</td>\n",
       "      <td>365172</td>\n",
       "      <td>1090695</td>\n",
       "      <td>725523</td>\n",
       "      <td>CCC</td>\n",
       "      <td>-0.019</td>\n",
       "    </tr>\n",
       "    <tr>\n",
       "      <th>156</th>\n",
       "      <td>Lambda Agro</td>\n",
       "      <td>2024</td>\n",
       "      <td>Q1</td>\n",
       "      <td>246382</td>\n",
       "      <td>208497</td>\n",
       "      <td>29861</td>\n",
       "      <td>300869</td>\n",
       "      <td>941426</td>\n",
       "      <td>640557</td>\n",
       "      <td>BB</td>\n",
       "      <td>-0.029</td>\n",
       "    </tr>\n",
       "    <tr>\n",
       "      <th>157</th>\n",
       "      <td>Lambda Agro</td>\n",
       "      <td>2024</td>\n",
       "      <td>Q2</td>\n",
       "      <td>184869</td>\n",
       "      <td>121829</td>\n",
       "      <td>59248</td>\n",
       "      <td>334260</td>\n",
       "      <td>332717</td>\n",
       "      <td>-1543</td>\n",
       "      <td>BBB</td>\n",
       "      <td>-0.025</td>\n",
       "    </tr>\n",
       "    <tr>\n",
       "      <th>158</th>\n",
       "      <td>Lambda Agro</td>\n",
       "      <td>2024</td>\n",
       "      <td>Q3</td>\n",
       "      <td>331400</td>\n",
       "      <td>232718</td>\n",
       "      <td>92661</td>\n",
       "      <td>218502</td>\n",
       "      <td>530388</td>\n",
       "      <td>311886</td>\n",
       "      <td>CCC</td>\n",
       "      <td>-0.039</td>\n",
       "    </tr>\n",
       "    <tr>\n",
       "      <th>159</th>\n",
       "      <td>Lambda Agro</td>\n",
       "      <td>2024</td>\n",
       "      <td>Q4</td>\n",
       "      <td>107545</td>\n",
       "      <td>95677</td>\n",
       "      <td>3412</td>\n",
       "      <td>63224</td>\n",
       "      <td>240738</td>\n",
       "      <td>177514</td>\n",
       "      <td>CCC</td>\n",
       "      <td>0.033</td>\n",
       "    </tr>\n",
       "  </tbody>\n",
       "</table>\n",
       "<p>160 rows × 11 columns</p>\n",
       "</div>"
      ],
      "text/plain": [
       "         Empresa   Año Trimestre  Ingresos  Costos  EBITDA   Deuda  Activos  \\\n",
       "0     Alpha Corp  2021        Q1    171958   84578   84520  415838   459178   \n",
       "1     Alpha Corp  2021        Q2    187337  157320   23591  137498  1112756   \n",
       "2     Alpha Corp  2021        Q3     91090   38121   50200  371879   527069   \n",
       "3     Alpha Corp  2021        Q4    153355  115049   32921  471909  1189436   \n",
       "4     Alpha Corp  2022        Q1    206730  167170   29711  199503   854811   \n",
       "..           ...   ...       ...       ...     ...     ...     ...      ...   \n",
       "155  Lambda Agro  2023        Q4    339450  172999  153324  365172  1090695   \n",
       "156  Lambda Agro  2024        Q1    246382  208497   29861  300869   941426   \n",
       "157  Lambda Agro  2024        Q2    184869  121829   59248  334260   332717   \n",
       "158  Lambda Agro  2024        Q3    331400  232718   92661  218502   530388   \n",
       "159  Lambda Agro  2024        Q4    107545   95677    3412   63224   240738   \n",
       "\n",
       "     Capital Rating  Proyeccion_Crecimiento  \n",
       "0      43340     BB                   0.069  \n",
       "1     975258    BBB                  -0.021  \n",
       "2     155190      B                  -0.050  \n",
       "3     717527    BBB                  -0.045  \n",
       "4     655308    BBB                   0.023  \n",
       "..       ...    ...                     ...  \n",
       "155   725523    CCC                  -0.019  \n",
       "156   640557     BB                  -0.029  \n",
       "157    -1543    BBB                  -0.025  \n",
       "158   311886    CCC                  -0.039  \n",
       "159   177514    CCC                   0.033  \n",
       "\n",
       "[160 rows x 11 columns]"
      ]
     },
     "execution_count": 39,
     "metadata": {},
     "output_type": "execute_result"
    }
   ],
   "source": [
    "df"
   ]
  },
  {
   "cell_type": "markdown",
   "metadata": {},
   "source": [
    "## Margen EBITDA"
   ]
  },
  {
   "cell_type": "code",
   "execution_count": 40,
   "metadata": {},
   "outputs": [
    {
     "name": "stdout",
     "output_type": "stream",
     "text": [
      "          Empresa    EBITDA  Ingresos  Margen_EBITDA\n",
      "3  Epsilon Retail  21676416  65950784     126.922613\n",
      "0      Alpha Corp  20172448  55654032     122.692582\n",
      "2      Delta Tech  17785424  56966656     120.169586\n",
      "8   Theta Finance  21786672  67451184     112.135075\n",
      "7     Lambda Agro  23372016  73709680     111.215412\n",
      "6     Kappa Media  24003424  69533376     106.689484\n",
      "1      Beta Foods  24862048  82631168     104.754806\n",
      "4    Gamma Energy  20728320  68407408      91.883688\n",
      "5  Iota Transport  14774224  58509136      90.359237\n",
      "9     Zeta Health  15121296  69423280      86.515338\n"
     ]
    }
   ],
   "source": [
    "ebita = df[['Empresa', 'EBITDA']]\n",
    "ingresos = df[['Empresa', 'Ingresos']]\n",
    "df_in_ebi = pd.merge(ebita, ingresos, on='Empresa', how='inner')\n",
    "df_in_ebi['Margen_EBITDA'] = df_in_ebi['EBITDA'] / df_in_ebi['Ingresos']\n",
    "#sumar todas las empresas con el mismo nombre\n",
    "df_in_ebi = df_in_ebi.groupby('Empresa').sum().reset_index()\n",
    "df_in_ebi = df_in_ebi.sort_values(by=['Margen_EBITDA', 'Ingresos'] , ascending=[False, False])\n",
    "print(df_in_ebi)"
   ]
  },
  {
   "cell_type": "markdown",
   "metadata": {},
   "source": [
    "## ROA"
   ]
  },
  {
   "cell_type": "code",
   "execution_count": 41,
   "metadata": {},
   "outputs": [
    {
     "name": "stdout",
     "output_type": "stream",
     "text": [
      "          Empresa    EBITDA    Capital          ROA\n",
      "6     Kappa Media  24003424  145441072   130.615126\n",
      "3  Epsilon Retail  21676416   93269120   102.076037\n",
      "0      Alpha Corp  20172448  101220032    87.260386\n",
      "2      Delta Tech  17785424  110028672    57.127912\n",
      "4    Gamma Energy  20728320  146948624    51.592315\n",
      "8   Theta Finance  21786672  133266304    47.199936\n",
      "5  Iota Transport  14774224  144211232     7.823350\n",
      "1      Beta Foods  24862048  113362496   -96.677881\n",
      "7     Lambda Agro  23372016  127181056  -882.777924\n",
      "9     Zeta Health  15121296  176425472 -1669.940431\n"
     ]
    }
   ],
   "source": [
    "ebita = df[['Empresa', 'EBITDA']]\n",
    "capital = df[['Empresa', 'Capital']]\n",
    "df_ca_eb = pd.merge(ebita, capital, on='Empresa', how='inner')\n",
    "df_ca_eb['ROA'] = df_ca_eb['EBITDA'] / df_ca_eb['Capital']\n",
    "df_ca_eb = df_ca_eb.groupby('Empresa').sum().reset_index()\n",
    "df_ca_eb = df_ca_eb.sort_values(by='ROA', ascending=False)\n",
    "print(df_ca_eb)"
   ]
  },
  {
   "cell_type": "markdown",
   "metadata": {},
   "source": [
    "## RATIO DEUDA/CAPITAL"
   ]
  },
  {
   "cell_type": "code",
   "execution_count": 42,
   "metadata": {},
   "outputs": [
    {
     "name": "stdout",
     "output_type": "stream",
     "text": [
      "          Empresa     Deuda    Capital        RATIO\n",
      "6     Kappa Media  83609008  145441072   454.960139\n",
      "3  Epsilon Retail  90098688   93269120   424.282179\n",
      "0      Alpha Corp  91676928  101220032   396.568833\n",
      "2      Delta Tech  77122032  110028672   247.720866\n",
      "4    Gamma Energy  83610208  146948624   208.103899\n",
      "8   Theta Finance  82803648  133266304   179.390724\n",
      "5  Iota Transport  77023072  144211232    40.785795\n",
      "1      Beta Foods  81204064  113362496  -315.767906\n",
      "7     Lambda Agro  89641888  127181056 -3385.838851\n",
      "9     Zeta Health  71790944  176425472 -7928.328361\n"
     ]
    }
   ],
   "source": [
    "deuda = df[['Empresa', 'Deuda']]\n",
    "capital = df[['Empresa', 'Capital']]\n",
    "df_de_ca = pd.merge(deuda, capital, on='Empresa', how='inner')\n",
    "df_de_ca['RATIO'] = df_de_ca['Deuda'] / df_de_ca['Capital']\n",
    "df_de_ca = df_de_ca.groupby('Empresa').sum().reset_index()\n",
    "df_de_ca = df_de_ca.sort_values(by=['RATIO', 'Deuda', 'Capital'], ascending=False)\n",
    "print(df_de_ca)"
   ]
  },
  {
   "cell_type": "markdown",
   "metadata": {},
   "source": [
    "## EMPRESAS Q4 EN 2024 MEJOR PROYECTADAS"
   ]
  },
  {
   "cell_type": "code",
   "execution_count": 50,
   "metadata": {},
   "outputs": [
    {
     "name": "stdout",
     "output_type": "stream",
     "text": [
      "          Empresa   Año Trimestre  Ingresos_y    EBITDA    Capital   Deuda_y  \\\n",
      "4  Epsilon Retail  2024        Q4    65950784  21676416   93269120  90098688   \n",
      "0      Alpha Corp  2024        Q4    55654032  20172448  101220032  91676928   \n",
      "3      Delta Tech  2024        Q4    56966656  17785424  110028672  77122032   \n",
      "\n",
      "   Margen_EBITDA         ROA       RATIO  \n",
      "4     126.922613  102.076037  424.282179  \n",
      "0     122.692582   87.260386  396.568833  \n",
      "3     120.169586   57.127912  247.720866  \n"
     ]
    }
   ],
   "source": [
    "# Filtro de año y trimestre\n",
    "anio_2024 = df['Año'] == 2024\n",
    "q4 = df['Trimestre'] == 'Q4'\n",
    "\n",
    "# Subconjunto 2024 Q4\n",
    "df_2024_q4 = df[(anio_2024) & (q4)]\n",
    "\n",
    "analisis_financiero = [df_2024_q4, df_in_ebi, df_ca_eb, df_de_ca]\n",
    "df_final = reduce(lambda left, right: pd.merge(left, right, on='Empresa', how='inner'), analisis_financiero)\n",
    "df_final = df_final.sort_values(by=['Margen_EBITDA', 'ROA', 'RATIO'], ascending=[False, False, False])\n",
    "df_final = df_final[['Empresa', 'Año', 'Trimestre', 'Ingresos_y', 'EBITDA', 'Capital', 'Deuda_y', 'Margen_EBITDA', 'ROA', 'RATIO']]\n",
    "print(df_final.head(3))"
   ]
  },
  {
   "cell_type": "markdown",
   "metadata": {},
   "source": [
    "Tenemos que las tres mejores empresas en el 4rto trimestre del 2024 fueron; \n",
    "1. Epsilon Retail\n",
    "2. Alpha Corp\n",
    "3. Delta Tech\n"
   ]
  },
  {
   "cell_type": "markdown",
   "metadata": {},
   "source": [
    "---"
   ]
  },
  {
   "cell_type": "markdown",
   "metadata": {},
   "source": [
    "## TENDENCIAS"
   ]
  },
  {
   "cell_type": "code",
   "execution_count": 55,
   "metadata": {},
   "outputs": [
    {
     "data": {
      "image/png": "[encoded data removed]",
      "text/plain": [
       "<Figure size 1200x600 with 1 Axes>"
      ]
     },
     "metadata": {},
     "output_type": "display_data"
    }
   ],
   "source": [
    "# usar todo 2024 para las 3 empresas\n",
    "Epsilon_2024 = df[(df['Empresa'] == 'Epsilon Retail') & (df['Año'] == 2024)]\n",
    "Alpha_2024 = df[(df['Empresa'] == 'Alpha Corp') & (df['Año'] == 2024)]\n",
    "Delta_2024 = df[(df['Empresa'] == 'Delta Tech') & (df['Año'] == 2024)]\n",
    "plt.figure(figsize=(12, 6))\n",
    "plt.plot(Epsilon_2024['Trimestre'], Epsilon_2024['Ingresos'], marker='o', label='Epsilon Retail')\n",
    "plt.plot(Alpha_2024['Trimestre'], Alpha_2024['Ingresos'], marker='o', label='Alpha Corp')\n",
    "plt.plot(Delta_2024['Trimestre'], Delta_2024['Ingresos'], marker='o', label='Delta Tech')\n",
    "plt.title('Ingresos de Empresas en 2024')\n",
    "plt.xlabel('Trimestre')\n",
    "plt.ylabel('Ingresos')\n",
    "plt.legend()\n",
    "plt.grid()\n",
    "plt.show()"
   ]
  },
  {
   "cell_type": "markdown",
   "metadata": {},
   "source": [
    "Podemos observar que la empresa Alpha Corp es la de crecimiento mas estable, a comparacion de Epsilon Retail que de su Q2 a Q3 tuvo una pica de mas del 70% del valor pero se volvio a recuperar en su Q4, y la que se sostiene menos es Delta Tech algo estable pero no creciente"
   ]
  },
  {
   "cell_type": "markdown",
   "metadata": {},
   "source": [
    "---"
   ]
  },
  {
   "cell_type": "markdown",
   "metadata": {},
   "source": [
    "## EVALUACION DE RIESGO"
   ]
  },
  {
   "cell_type": "code",
   "execution_count": 60,
   "metadata": {},
   "outputs": [
    {
     "name": "stdout",
     "output_type": "stream",
     "text": [
      "           Empresa Rating    Deuda  EBITDA\n",
      "40     Kappa Media      A  2435124  620054\n",
      "26    Gamma Energy      A  1012869  191461\n",
      "20  Epsilon Retail      A   762356  222087\n",
      "33  Iota Transport      A   698633  111087\n",
      "7       Beta Foods      A   539570  108836\n",
      "..             ...    ...      ...     ...\n",
      "6       Alpha Corp    CCC   426896  129845\n",
      "64     Zeta Health    CCC   418501   44779\n",
      "32    Gamma Energy    CCC   301354  148495\n",
      "39  Iota Transport    CCC    95002   41828\n",
      "57   Theta Finance    CCC    86187   89341\n",
      "\n",
      "[65 rows x 4 columns]\n"
     ]
    }
   ],
   "source": [
    "# Define risk categories using logical conditions\n",
    "bajo_riesgo = df['Rating'].isin(['AAA', 'AA', 'A'])\n",
    "riesgo_medio = df['Rating'].isin(['BBB', 'BB'])\n",
    "alto_riesgo = df['Rating'].isin(['B', 'CCC'])\n",
    "\n",
    "# Combine all risk categories and filter the DataFrame\n",
    "df_riesgo = df[bajo_riesgo | riesgo_medio | alto_riesgo]\n",
    "df_riesgo = df_riesgo[['Empresa', 'Deuda', 'EBITDA', 'Rating']]\n",
    "df_riesgo = df_riesgo.groupby(['Empresa', 'Rating']).sum().reset_index()\n",
    "df_riesgo = df_riesgo.sort_values(by=['Rating', 'Deuda', 'EBITDA'], ascending=[True, False, False])\n",
    "print(df_riesgo)\n"
   ]
  },
  {
   "cell_type": "code",
   "execution_count": 62,
   "metadata": {},
   "outputs": [
    {
     "name": "stdout",
     "output_type": "stream",
     "text": [
      "  Rating  count\n",
      "0     AA     10\n",
      "1    BBB     10\n",
      "2    CCC     10\n",
      "3      A      9\n",
      "4    AAA      9\n",
      "5     BB      9\n",
      "6      B      8\n"
     ]
    }
   ],
   "source": [
    "df_riesgo_counts = df_riesgo['Rating'].value_counts().reset_index()\n",
    "print(df_riesgo_counts)"
   ]
  },
  {
   "cell_type": "markdown",
   "metadata": {},
   "source": [
    "Podemos observar que hay una gran variedad de riesgos, los 3 mas comunes con 10 empresas son los;\n",
    "1.  AA\n",
    "2.  BB\n",
    "3.  CCC"
   ]
  },
  {
   "cell_type": "markdown",
   "metadata": {},
   "source": [
    "---"
   ]
  },
  {
   "cell_type": "markdown",
   "metadata": {},
   "source": [
    "## PROYECCIONES "
   ]
  },
  {
   "cell_type": "code",
   "execution_count": 72,
   "metadata": {},
   "outputs": [
    {
     "name": "stdout",
     "output_type": "stream",
     "text": [
      "          Empresa  Ingresos  Proyeccion_Crecimiento  Ingresos_2025_Q1\n",
      "8   Theta Finance   1476877                   0.425       2104549.725\n",
      "1      Beta Foods    718574                   0.351        970793.474\n",
      "6     Kappa Media    884944                   0.323       1170780.912\n",
      "0      Alpha Corp    953953                   0.214       1158098.942\n",
      "3  Epsilon Retail   1372962                   0.155       1585771.110\n"
     ]
    }
   ],
   "source": [
    "# Ensure the columns are numeric\n",
    "ingresos_2024 = df[df['Año'] == 2024].groupby('Empresa')['Ingresos'].sum().reset_index()\n",
    "proyeccion_2024 = df[df['Año'] == 2024].groupby('Empresa')['Proyeccion_Crecimiento'].sum().reset_index()\n",
    "\n",
    "ingresos_2024['Ingresos'] = pd.to_numeric(ingresos_2024['Ingresos'], errors='coerce')\n",
    "proyeccion_2024['Proyeccion_Crecimiento'] = pd.to_numeric(proyeccion_2024['Proyeccion_Crecimiento'], errors='coerce')\n",
    "\n",
    "# Merge the two DataFrames on 'Empresa'\n",
    "merged_df = pd.merge(ingresos_2024, proyeccion_2024, on='Empresa', how='inner')\n",
    "\n",
    "# Calculate projected ingresos for 2025 Q1\n",
    "merged_df['Ingresos_2025_Q1'] = merged_df['Ingresos'] * (1 + merged_df['Proyeccion_Crecimiento'])\n",
    "merged_df = merged_df.sort_values(by='Proyeccion_Crecimiento', ascending=False)\n",
    "print(merged_df.head())"
   ]
  },
  {
   "cell_type": "markdown",
   "metadata": {},
   "source": [
    "Las empresas con mayor proyeccion para el Q1 de 2025 son;\n",
    "1. Theta Finance con %0.45\n",
    "2. Beta Foods con %0.35\n",
    "3. Kappa Media con %0.32\n",
    "4. Alpha Corp con %0.21\n",
    "5. Epsilon Retail con% 0.15"
   ]
  },
  {
   "cell_type": "markdown",
   "metadata": {},
   "source": [
    "---"
   ]
  },
  {
   "cell_type": "markdown",
   "metadata": {},
   "source": [
    "## INGRESO POR EMPRESA"
   ]
  },
  {
   "cell_type": "code",
   "execution_count": 73,
   "metadata": {},
   "outputs": [
    {
     "name": "stderr",
     "output_type": "stream",
     "text": [
      "/var/folders/cc/f3kjh4c13ws4rgqrwyqr5sgh0000gn/T/ipykernel_14337/1822238307.py:5: FutureWarning: \n",
      "\n",
      "Passing `palette` without assigning `hue` is deprecated and will be removed in v0.14.0. Assign the `x` variable to `hue` and set `legend=False` for the same effect.\n",
      "\n",
      "  sns.barplot(data=ingresos_empresa, x='Empresa', y='Ingresos', palette='viridis')\n"
     ]
    },
    {
     "data": {
      "image/png": "[encoded data removed]",
      "text/plain": [
       "<Figure size 1000x600 with 1 Axes>"
      ]
     },
     "metadata": {},
     "output_type": "display_data"
    }
   ],
   "source": [
    "## tabla de ingresos por empresa\n",
    "ingresos_empresa = df.groupby('Empresa')['Ingresos'].sum().reset_index()\n",
    "ingresos_empresa = ingresos_empresa.sort_values(by='Ingresos', ascending=False)\n",
    "plt.figure(figsize=(10, 6))\n",
    "sns.barplot(data=ingresos_empresa, x='Empresa', y='Ingresos', palette='viridis')\n",
    "plt.title('Ingresos Totales por Empresa')\n",
    "plt.xlabel('Empresa')\n",
    "plt.ylabel('Ingresos')\n",
    "plt.xticks(rotation=45)\n",
    "plt.tight_layout()\n",
    "plt.show()"
   ]
  },
  {
   "cell_type": "markdown",
   "metadata": {},
   "source": [
    "---"
   ]
  },
  {
   "cell_type": "markdown",
   "metadata": {},
   "source": [
    "## COMPARATIVOS DE EBITDA"
   ]
  },
  {
   "cell_type": "code",
   "execution_count": 74,
   "metadata": {},
   "outputs": [
    {
     "name": "stderr",
     "output_type": "stream",
     "text": [
      "/var/folders/cc/f3kjh4c13ws4rgqrwyqr5sgh0000gn/T/ipykernel_14337/4201506206.py:5: FutureWarning: \n",
      "\n",
      "Passing `palette` without assigning `hue` is deprecated and will be removed in v0.14.0. Assign the `x` variable to `hue` and set `legend=False` for the same effect.\n",
      "\n",
      "  sns.barplot(data=ebitda_empresa, x='Empresa', y='EBITDA', palette='magma')\n"
     ]
    },
    {
     "data": {
      "image/png": "[encoded data removed]",
      "text/plain": [
       "<Figure size 1000x600 with 1 Axes>"
      ]
     },
     "metadata": {},
     "output_type": "display_data"
    }
   ],
   "source": [
    "# grafica de EBITDA por empresa\n",
    "ebitda_empresa = df.groupby('Empresa')['EBITDA'].sum().reset_index()\n",
    "ebitda_empresa = ebitda_empresa.sort_values(by='EBITDA', ascending=False)\n",
    "plt.figure(figsize=(10, 6))\n",
    "sns.barplot(data=ebitda_empresa, x='Empresa', y='EBITDA', palette='magma')\n",
    "plt.title('EBITDA Total por Empresa')\n",
    "plt.xlabel('Empresa')\n",
    "plt.ylabel('EBITDA')\n",
    "plt.xticks(rotation=45)\n",
    "plt.tight_layout()\n",
    "plt.show()"
   ]
  },
  {
   "cell_type": "markdown",
   "metadata": {},
   "source": [
    "---"
   ]
  },
  {
   "cell_type": "markdown",
   "metadata": {},
   "source": [
    "## DISTRIBUCIONES DE RIESGO"
   ]
  },
  {
   "cell_type": "code",
   "execution_count": 75,
   "metadata": {},
   "outputs": [
    {
     "name": "stderr",
     "output_type": "stream",
     "text": [
      "/var/folders/cc/f3kjh4c13ws4rgqrwyqr5sgh0000gn/T/ipykernel_14337/2062536976.py:3: FutureWarning: \n",
      "\n",
      "Passing `palette` without assigning `hue` is deprecated and will be removed in v0.14.0. Assign the `x` variable to `hue` and set `legend=False` for the same effect.\n",
      "\n",
      "  sns.countplot(data=df_riesgo, x='Rating', order=df_riesgo['Rating'].value_counts().index, palette='Set2')\n"
     ]
    },
    {
     "data": {
      "image/png": "[encoded data removed]",
      "text/plain": [
       "<Figure size 800x500 with 1 Axes>"
      ]
     },
     "metadata": {},
     "output_type": "display_data"
    }
   ],
   "source": [
    "## grafica de riesgo por empresa\n",
    "plt.figure(figsize=(8, 5))\n",
    "sns.countplot(data=df_riesgo, x='Rating', order=df_riesgo['Rating'].value_counts().index, palette='Set2')\n",
    "plt.title('Distribución de Ratings de Riesgo')\n",
    "plt.xlabel('Rating')\n",
    "plt.ylabel('Número de Empresas')\n",
    "plt.tight_layout()\n",
    "plt.show()"
   ]
  },
  {
   "cell_type": "markdown",
   "metadata": {},
   "source": [
    "---"
   ]
  },
  {
   "cell_type": "markdown",
   "metadata": {},
   "source": [
    "# 📊 Conclusión del Análisis Financiero\n",
    "\n",
    "**✨ Preparación y Limpieza de Datos**\n",
    "- Carga y limpieza de datos financieros.\n",
    "- Eliminación de valores nulos y transformaciones para asegurar calidad.\n",
    "\n",
    "**📈 Análisis Descriptivo**\n",
    "- Cálculo de ingresos, costos, márgenes y rentabilidad.\n",
    "- Identificación de empresas con alto desempeño y áreas de mejora.\n",
    "\n",
    "**⏳ Tendencias Temporales**\n",
    "- Evolución de ingresos y beneficios a lo largo del tiempo.\n",
    "- Permite visualizar el desempeño histórico de cada empresa.\n",
    "\n",
    "**🤝 Comparación entre Empresas**\n",
    "- Comparación de métricas clave para identificar líderes del sector.\n",
    "- Comprensión de la posición competitiva de cada empresa.\n",
    "\n",
    "**📊 Visualizaciones**\n",
    "- Gráficos que facilitan la interpretación de datos y resultados.\n",
    "\n",
    "**💡 Conclusiones y Recomendaciones**\n",
    "- Visión integral de la salud financiera de las empresas.\n",
    "- Estrategias sugeridas para mejorar el rendimiento financiero.\n"
   ]
  }
 ],
 "metadata": {
  "kernelspec": {
   "display_name": "Python 3",
   "language": "python",
   "name": "python3"
  },
  "language_info": {
   "codemirror_mode": {
    "name": "ipython",
    "version": 3
   },
   "file_extension": ".py",
   "mimetype": "text/x-python",
   "name": "python",
   "nbconvert_exporter": "python",
   "pygments_lexer": "ipython3",
   "version": "3.12.8"
  }
 },
 "nbformat": 4,
 "nbformat_minor": 2
}
